{
 "cells": [
  {
   "cell_type": "code",
   "execution_count": 1,
   "metadata": {},
   "outputs": [],
   "source": [
    "import json\n",
    "import datetime\n",
    "import pandas as pd\n",
    "import ipaddress\n",
    "import random\n",
    "from pymongo import MongoClient\n",
    "from random import randint"
   ]
  },
  {
   "cell_type": "code",
   "execution_count": null,
   "metadata": {},
   "outputs": [],
   "source": [
    "client = MongoClient(port=27017)\n",
    "db=client.netflowclient = MongoClient(port=27017)\n",
    "db=client.netflow\n",
    "# Count the total flows in whole database\n",
    "start = datetime.datetime.now()\n",
    "total_flows = db.spt.aggregate([\n",
    "    {\n",
    "        '$group':{\n",
    "            '_id': \"null\",\n",
    "            'total': { '$sum': \"$flows\"}\n",
    "        }\n",
    "    }\n",
    "])\n",
    "for total in total_flows:\n",
    "    print(total)\n",
    "    \n",
    "client.close()    \n",
    "end = datetime.datetime.now()\n",
    "print(end-start)"
   ]
  }
 ],
 "metadata": {
  "kernelspec": {
   "display_name": "Python 3",
   "language": "python",
   "name": "python3"
  },
  "language_info": {
   "codemirror_mode": {
    "name": "ipython",
    "version": 3
   },
   "file_extension": ".py",
   "mimetype": "text/x-python",
   "name": "python",
   "nbconvert_exporter": "python",
   "pygments_lexer": "ipython3",
   "version": "3.6.9"
  }
 },
 "nbformat": 4,
 "nbformat_minor": 4
}
