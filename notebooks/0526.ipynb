{
 "cells": [
  {
   "cell_type": "code",
   "execution_count": 2,
   "metadata": {},
   "outputs": [],
   "source": [
    "import json\n",
    "import datetime\n",
    "import pandas as pd\n",
    "import ipaddress\n",
    "import random\n",
    "from pymongo import MongoClient\n",
    "from random import randint"
   ]
  },
  {
   "cell_type": "code",
   "execution_count": 3,
   "metadata": {},
   "outputs": [
    {
     "name": "stdout",
     "output_type": "stream",
     "text": [
      "1:33:12.701285\n"
     ]
    }
   ],
   "source": [
    "# generate the 10 X 1000000 new database with key words\n",
    "# \"sourceIP\",\"port\",\"first seen\",\"last seen\"\n",
    "# get the process time\n",
    "start = datetime.datetime.now()\n",
    "MAX_IP_INT = 4200000000\n",
    "N=1000000\n",
    "\n",
    "protocols = ['TCP','UDP','ssh']\n",
    "\n",
    "for i in range(228):\n",
    "    netflow = []\n",
    "    now_time = datetime.datetime.now() + datetime.timedelta(minutes = 5 * i)\n",
    "    last_time = datetime.datetime.now() + datetime.timedelta(minutes = 5 * i) + datetime.timedelta(minutes = randint(0,5))\n",
    "    for n in range(N):\n",
    "        IPs = {\n",
    "        \"srcaddr\" :  \"{}\".format(str(ipaddress.ip_address(randint(0, MAX_IP_INT)))),\n",
    "        \"srcaddr\" :  randint(0,65535),\n",
    "        \"First\"   :  int(now_time.strftime(\"%Y%m%d%H%M%S\")),\n",
    "        \"Last\"    :  int(last_time.strftime(\"%Y%m%d%H%M%S\")),\n",
    "        \"protocol\":  random.choice(protocols),\n",
    "        \"flows\"   :  randint(0,30),\n",
    "        \"packets\" :  randint(0,500),\n",
    "        \"bytes\"   :  randint(0,1000000),\n",
    "#        \"src_mask\":  \"{}\".format(str(ipaddress.ip_address(randint(0, MAX_IP_INT)))),\n",
    "#        \"hostname\":  xyz1.srv.lrz.de\n",
    "#        \"os\"      :\n",
    "#        \"Subnet\"  :\n",
    "        }\n",
    "        netflow.append(IPs)\n",
    "\n",
    "    json_object = json.dumps(netflow, indent = 3)\n",
    "    now_time = datetime.datetime.now() + datetime.timedelta(minutes = 5 * i)\n",
    "    file_name = 'data/full/' + now_time.strftime(\"%Y%m%d%H%M%S\") + '.json'\n",
    "    with open(file_name, \"w\") as outfile:\n",
    "        outfile.write(json_object)\n",
    "        outfile.close()\n",
    "    \n",
    "end = datetime.datetime.now()\n",
    "print(end-start)"
   ]
  },
  {
   "cell_type": "code",
   "execution_count": 10,
   "metadata": {},
   "outputs": [
    {
     "name": "stdout",
     "output_type": "stream",
     "text": [
      "20200526125000.json\n",
      "20200526125525.json\n",
      "20200526130053.json\n",
      "20200526130618.json\n",
      "20200526131145.json\n",
      "20200526131710.json\n",
      "20200526132235.json\n",
      "20200526132759.json\n",
      "20200526133324.json\n",
      "20200526133848.json\n",
      "20200526125000.json\n",
      "20200526125525.json\n",
      "20200526130053.json\n",
      "20200526130618.json\n",
      "20200526131145.json\n",
      "20200526131710.json\n",
      "20200526132235.json\n",
      "20200526132759.json\n",
      "20200526133324.json\n",
      "20200526133848.json\n",
      "['20200526125000.json', '20200526125525.json', '20200526130053.json', '20200526130618.json', '20200526131145.json', '20200526131710.json', '20200526132235.json', '20200526132759.json', '20200526133324.json', '20200526133848.json']\n"
     ]
    }
   ],
   "source": [
    "# Python read all files from a directory in order\n",
    "import os\n",
    "\n",
    "f = open(\"./data/data_name.txt\", 'w')\n",
    "path = \"./data/spt/\"\n",
    "files = os.listdir(path)\n",
    "files.sort()\n",
    "\n",
    "s = []\n",
    "\n",
    "for file_name in files:\n",
    "    if not os.path.isdir(path + file_name):\n",
    "        f_name = str(file_name)\n",
    "        print(f_name)\n",
    "        s.append(f_name)\n",
    "        f.write(f_name + '\\n')\n",
    "for i in s:\n",
    "    print(i)\n",
    "print(s)"
   ]
  },
  {
   "cell_type": "code",
   "execution_count": 12,
   "metadata": {},
   "outputs": [
    {
     "name": "stdout",
     "output_type": "stream",
     "text": [
      "0:00:24.074949\n",
      "0:00:26.847165\n",
      "0:00:24.762502\n",
      "0:00:24.678265\n",
      "0:00:25.482162\n",
      "0:00:24.905563\n",
      "0:00:23.906058\n",
      "0:00:25.365848\n",
      "0:00:25.478512\n",
      "0:00:25.829741\n",
      "[datetime.timedelta(0, 24, 74949), datetime.timedelta(0, 26, 847165), datetime.timedelta(0, 24, 762502), datetime.timedelta(0, 24, 678265), datetime.timedelta(0, 25, 482162), datetime.timedelta(0, 24, 905563), datetime.timedelta(0, 23, 906058), datetime.timedelta(0, 25, 365848), datetime.timedelta(0, 25, 478512), datetime.timedelta(0, 25, 829741)]\n"
     ]
    }
   ],
   "source": [
    "# 1. Read data into databases, comparison of the process time, plot each database engine process time as a line\n",
    "# 1.1 Read 10 X 1000000 records into mongodb\n",
    "\n",
    "#client = MongoClient(port=27017)\n",
    "#db = client.netflow\n",
    "read_time = []\n",
    "\n",
    "for json_name in s:\n",
    "    client = MongoClient(port=27017)\n",
    "    db = client.netflow\n",
    "    start = datetime.datetime.now()\n",
    "    with open('data/spt/'+json_name) as record:\n",
    "        new_record = json.load(record)\n",
    "\n",
    "    db.spt.insert_many(new_record)\n",
    "    end = datetime.datetime.now()\n",
    "    read_time_part = end-start\n",
    "    read_time.append(read_time_part)\n",
    "    print(read_time_part)\n",
    "    #db.command({closeAllDatabases:1})\n",
    "    client.close()\n",
    "\n",
    "#03client.close()\n",
    "print(read_time)\n"
   ]
  },
  {
   "cell_type": "code",
   "execution_count": null,
   "metadata": {},
   "outputs": [],
   "source": [
    "client = MongoClient(port=27017)\n",
    "db=client.netflow\n",
    "# Count the total flows in whole database\n",
    "start = datetime.datetime.now()\n",
    "total_flows = db.spt.aggregate([\n",
    "    {\n",
    "        '$group':{\n",
    "            '_id': \"null\",\n",
    "            'total': { '$sum': \"$flows\"}\n",
    "        }\n",
    "    }\n",
    "])\n",
    "for total in total_flows:\n",
    "    print(total)\n",
    "    \n",
    "client.close()    \n",
    "end = datetime.datetime.now()\n",
    "print(end-start)"
   ]
  },
  {
   "cell_type": "code",
   "execution_count": null,
   "metadata": {},
   "outputs": [],
   "source": []
  },
  {
   "cell_type": "code",
   "execution_count": null,
   "metadata": {},
   "outputs": [],
   "source": []
  },
  {
   "cell_type": "code",
   "execution_count": null,
   "metadata": {},
   "outputs": [],
   "source": [
    "# generate the 10 X 1000000 new database with key words\n",
    "# \"sourceIP\",\"port\",\"first seen\",\"last seen\"\n",
    "# get the process time\n",
    "start = datetime.datetime.now()\n",
    "MAX_IP_INT = 4200000000\n",
    "N=1000000\n",
    "\n",
    "protocols = ['TCP','UDP']\n",
    "\n",
    "for i in range(10):\n",
    "    netflow = []\n",
    "    now_time = datetime.datetime.now() + datetime.timedelta(minutes = 5 * i)\n",
    "    for n in range(N):\n",
    "        IPs = {\n",
    "        \"srcaddr\" :  \"{}\".format(str(ipaddress.ip_address(randint(0, MAX_IP_INT)))),\n",
    "        \"srcport\" :  randint(0,65535),\n",
    "        \"dstaddr\" :  \"{}\".format(str(ipaddress.ip_address(randint(0, MAX_IP_INT)))),        \n",
    "        \"dstport\" :  randint(0,65535),\n",
    "        \"first\"   :  int(now_time.strftime(\"%Y%m%d%H%M%S\")),\n",
    "        \"last\"    :  int(now_time.strftime(\"%Y%m%d%H%M%S\")),\n",
    "        \"flows\"   :  randint(0,30),\n",
    "        \"packets\" :  randint(0,500),\n",
    "        \"bytes\"   :  randint(0,1000000),\n",
    "        \"protocol\":  random.choice(protocols),\n",
    "        }\n",
    "        netflow.append(IPs)\n",
    "\n",
    "    json_object = json.dumps(netflow, indent = 3)\n",
    "    now_time = datetime.datetime.now() + datetime.timedelta(minutes = 5 * i)\n",
    "    file_name = 'spt' + now_time.strftime(\"%Y%m%d%H%M%S\") + '.json'\n",
    "    with open(file_name, \"w\") as outfile:\n",
    "        outfile.write(json_object)\n",
    "        outfile.close()\n",
    "    \n",
    "end = datetime.datetime.now()\n",
    "print(end-start)"
   ]
  }
 ],
 "metadata": {
  "kernelspec": {
   "display_name": "Python 3",
   "language": "python",
   "name": "python3"
  },
  "language_info": {
   "codemirror_mode": {
    "name": "ipython",
    "version": 3
   },
   "file_extension": ".py",
   "mimetype": "text/x-python",
   "name": "python",
   "nbconvert_exporter": "python",
   "pygments_lexer": "ipython3",
   "version": "3.6.9"
  }
 },
 "nbformat": 4,
 "nbformat_minor": 4
}
