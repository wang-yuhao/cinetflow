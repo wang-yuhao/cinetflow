{
 "cells": [
  {
   "cell_type": "code",
   "execution_count": 1,
   "metadata": {},
   "outputs": [],
   "source": [
    "import json\n",
    "import datetime\n",
    "import pandas as pd\n",
    "import ipaddress\n",
    "import random\n",
    "from pymongo import MongoClient\n",
    "from random import randint"
   ]
  },
  {
   "cell_type": "code",
   "execution_count": 11,
   "metadata": {},
   "outputs": [
    {
     "data": {
      "text/plain": [
       "'12:18:54 - 05 15 2020'"
      ]
     },
     "execution_count": 11,
     "metadata": {},
     "output_type": "execute_result"
    }
   ],
   "source": [
    "datetime.datetime.now().strftime(\"%H:%M:%S - %m %d %Y\")"
   ]
  },
  {
   "cell_type": "code",
   "execution_count": 12,
   "metadata": {},
   "outputs": [
    {
     "data": {
      "text/plain": [
       "'20200515121855'"
      ]
     },
     "execution_count": 12,
     "metadata": {},
     "output_type": "execute_result"
    }
   ],
   "source": [
    "datetime.datetime.now().strftime(\"%Y%m%d%H%M%S\")"
   ]
  },
  {
   "cell_type": "code",
   "execution_count": 13,
   "metadata": {
    "scrolled": true
   },
   "outputs": [
    {
     "data": {
      "text/plain": [
       "datetime.datetime(2020, 5, 15, 12, 18, 55)"
      ]
     },
     "execution_count": 13,
     "metadata": {},
     "output_type": "execute_result"
    }
   ],
   "source": [
    "datetime.datetime.now().replace(microsecond  = 0)"
   ]
  },
  {
   "cell_type": "code",
   "execution_count": 8,
   "metadata": {
    "scrolled": true
   },
   "outputs": [
    {
     "name": "stdout",
     "output_type": "stream",
     "text": [
      "0:00:22.087487\n"
     ]
    },
    {
     "name": "stderr",
     "output_type": "stream",
     "text": [
      "IOPub data rate exceeded.\n",
      "The notebook server will temporarily stop sending output\n",
      "to the client in order to avoid crashing it.\n",
      "To change this limit, set the config variable\n",
      "`--NotebookApp.iopub_data_rate_limit`.\n",
      "\n",
      "Current values:\n",
      "NotebookApp.iopub_data_rate_limit=1000000.0 (bytes/sec)\n",
      "NotebookApp.rate_limit_window=3.0 (secs)\n",
      "\n"
     ]
    }
   ],
   "source": [
    "# Read 1000000 records into MongoDB database\n",
    "# Get the process time\n",
    "client = MongoClient(port=27017)\n",
    "db = client.netflow\n",
    "\n",
    "start = datetime.datetime.now()\n",
    "with open('data/20200515134659.json') as record:\n",
    "    new_record = json.load(record)\n",
    "\n",
    "db.testlist.insert_many(new_record)\n",
    "client.close()\n",
    "\n",
    "end = datetime.datetime.now()\n",
    "print(end-start)\n",
    "\n",
    "#print(new_record)"
   ]
  },
  {
   "cell_type": "code",
   "execution_count": 13,
   "metadata": {},
   "outputs": [
    {
     "name": "stdout",
     "output_type": "stream",
     "text": [
      "{'_id': 'null', 'total': 30000722}\n",
      "0:00:01.269110\n"
     ]
    }
   ],
   "source": [
    "client = MongoClient(port=27017)\n",
    "db=client.netflow\n",
    "# Count the total flows in whole database\n",
    "start = datetime.datetime.now()\n",
    "total_flows = db.testlist.aggregate([\n",
    "    {\n",
    "        '$group':{\n",
    "            '_id': \"null\",\n",
    "            'total': { '$sum': \"$flows\"}\n",
    "        }\n",
    "    }\n",
    "])\n",
    "for total in total_flows:\n",
    "    print(total)\n",
    "    \n",
    "client.close()    \n",
    "end = datetime.datetime.now()\n",
    "print(end-start)"
   ]
  },
  {
   "cell_type": "code",
   "execution_count": 20,
   "metadata": {},
   "outputs": [
    {
     "name": "stdout",
     "output_type": "stream",
     "text": [
      "{'_id': 'TCP', 'total': 4390}\n",
      "{'_id': 'UDP', 'total': 3958}\n",
      "0:00:00.706507\n"
     ]
    }
   ],
   "source": [
    "client = MongoClient(port=27017)\n",
    "db=client.netflow\n",
    "# Search all flows with UDP in 20200515 13:36:42\n",
    "start = datetime.datetime.now()\n",
    "udp_flows = db.testlist.aggregate([\n",
    "    {   '$match': {'timestamp': \"20200515134632\"}},\n",
    "    {   '$group': {\n",
    "            '_id': \"$protocol\",\n",
    "            'total': { '$sum': \"$flows\"}\n",
    "        }\n",
    "    }\n",
    "])\n",
    "for udp_flow in udp_flows:\n",
    "    print(udp_flow)\n",
    "end = datetime.datetime.now()\n",
    "print(end-start)"
   ]
  },
  {
   "cell_type": "code",
   "execution_count": 7,
   "metadata": {},
   "outputs": [
    {
     "data": {
      "text/plain": [
       "20200520065322"
      ]
     },
     "execution_count": 7,
     "metadata": {},
     "output_type": "execute_result"
    }
   ],
   "source": [
    "int(datetime.datetime.now().strftime(\"%Y%m%d%H%M%S\"))"
   ]
  },
  {
   "cell_type": "code",
   "execution_count": 6,
   "metadata": {},
   "outputs": [
    {
     "data": {
      "text/plain": [
       "'20200520065310'"
      ]
     },
     "execution_count": 6,
     "metadata": {},
     "output_type": "execute_result"
    }
   ],
   "source": [
    "datetime.datetime.now().strftime(\"%Y%m%d%H%M%S\")"
   ]
  },
  {
   "cell_type": "code",
   "execution_count": 11,
   "metadata": {},
   "outputs": [
    {
     "name": "stdout",
     "output_type": "stream",
     "text": [
      "0:05:24.611934\n"
     ]
    }
   ],
   "source": [
    "# generate 10 X 1000000 records with \"sourceIP\",\"destinationIP\",\"timestamp\"\n",
    "# get the process time\n",
    "start = datetime.datetime.now()\n",
    "MAX_IP_INT = 4200000000\n",
    "N=1000000\n",
    "\n",
    "protocols = ['TCP','UDP']\n",
    "\n",
    "for i in range(10):\n",
    "    netflow = []\n",
    "    now_time = datetime.datetime.now() + datetime.timedelta(minutes = 5 * i)\n",
    "    for n in range(N):\n",
    "        IPs = {\n",
    "        \"srcaddr\" :  \"{}\".format(str(ipaddress.ip_address(randint(0, MAX_IP_INT)))),\n",
    "        \"srcport\" :  randint(0,65535),\n",
    "        \"dstaddr\" :  \"{}\".format(str(ipaddress.ip_address(randint(0, MAX_IP_INT)))),        \n",
    "        \"dstport\" :  randint(0,65535),\n",
    "        \"first\"   :  int(now_time.strftime(\"%Y%m%d%H%M%S\")),\n",
    "        \"last\"    :  int(now_time.strftime(\"%Y%m%d%H%M%S\")),\n",
    "        \"flows\"   :  randint(0,30),\n",
    "        \"packets\" :  randint(0,500),\n",
    "        \"bytes\"   :  randint(0,1000000),\n",
    "        \"protocol\":  random.choice(protocols),\n",
    "        }\n",
    "        netflow.append(IPs)\n",
    "\n",
    "    json_object = json.dumps(netflow, indent = 3)\n",
    "    now_time = datetime.datetime.now() + datetime.timedelta(minutes = 5 * i)\n",
    "    file_name = now_time.strftime(\"%Y%m%d%H%M%S\") + '.json'\n",
    "    with open(file_name, \"w\") as outfile:\n",
    "        outfile.write(json_object)\n",
    "        outfile.close()\n",
    "    \n",
    "end = datetime.datetime.now()\n",
    "print(end-start)"
   ]
  },
  {
   "cell_type": "code",
   "execution_count": 14,
   "metadata": {},
   "outputs": [
    {
     "name": "stdout",
     "output_type": "stream",
     "text": [
      "0:00:33.311647\n"
     ]
    }
   ],
   "source": [
    "# 1. Read 1000000 records into MongoDB database\n",
    "#    Get the process time\n",
    "\n",
    "client = MongoClient(port=27017)\n",
    "db = client.netflow\n",
    "\n",
    "start = datetime.datetime.now()\n",
    "with open('data/20200520074458.json') as record:\n",
    "    new_record = json.load(record)\n",
    "\n",
    "db.testlist.insert_many(new_record)\n",
    "\n",
    "\n",
    "client.close()\n",
    "\n",
    "end = datetime.datetime.now()\n",
    "print(end-start)\n"
   ]
  },
  {
   "cell_type": "code",
   "execution_count": 7,
   "metadata": {},
   "outputs": [
    {
     "name": "stdout",
     "output_type": "stream",
     "text": [
      "{'srcaddr': '157.64.227.78', 'srcport': 7988, 'dstaddr': '212.75.236.165', 'dstport': 1827, 'first': 20200520065855, 'last': 20200520065855, 'flows': 28, 'packets': 377, 'bytes': 1000000, 'protocol': 'TCP'}\n",
      "{'srcaddr': '175.44.213.207', 'srcport': 54042, 'dstaddr': '172.7.9.195', 'dstport': 32825, 'first': 20200520065525, 'last': 20200520065525, 'flows': 10, 'packets': 57, 'bytes': 1000000, 'protocol': 'UDP'}\n",
      "{'srcaddr': '40.81.184.53', 'srcport': 51799, 'dstaddr': '153.81.36.246', 'dstport': 8966, 'first': 20200520065859, 'last': 20200520065859, 'flows': 2, 'packets': 416, 'bytes': 1000000, 'protocol': 'UDP'}\n",
      "{'srcaddr': '102.32.97.120', 'srcport': 10545, 'dstaddr': '36.129.28.217', 'dstport': 2738, 'first': 20200520065716, 'last': 20200520065716, 'flows': 8, 'packets': 148, 'bytes': 1000000, 'protocol': 'TCP'}\n",
      "{'srcaddr': '185.79.124.30', 'srcport': 37089, 'dstaddr': '219.72.121.151', 'dstport': 33571, 'first': 20200520065811, 'last': 20200520065811, 'flows': 15, 'packets': 306, 'bytes': 999999, 'protocol': 'UDP'}\n",
      "{'srcaddr': '144.103.231.90', 'srcport': 10181, 'dstaddr': '107.210.217.78', 'dstport': 55948, 'first': 20200520065857, 'last': 20200520065857, 'flows': 6, 'packets': 266, 'bytes': 999999, 'protocol': 'TCP'}\n",
      "{'srcaddr': '240.120.104.44', 'srcport': 10740, 'dstaddr': '211.166.251.116', 'dstport': 10397, 'first': 20200520065802, 'last': 20200520065802, 'flows': 13, 'packets': 88, 'bytes': 999999, 'protocol': 'UDP'}\n",
      "{'srcaddr': '92.212.152.33', 'srcport': 37008, 'dstaddr': '193.251.103.20', 'dstport': 13362, 'first': 20200520065948, 'last': 20200520065948, 'flows': 16, 'packets': 30, 'bytes': 999999, 'protocol': 'UDP'}\n",
      "{'srcaddr': '12.166.243.182', 'srcport': 43513, 'dstaddr': '190.53.199.75', 'dstport': 31089, 'first': 20200520065528, 'last': 20200520065528, 'flows': 27, 'packets': 212, 'bytes': 999999, 'protocol': 'TCP'}\n",
      "{'srcaddr': '4.158.159.166', 'srcport': 2012, 'dstaddr': '15.167.10.244', 'dstport': 20292, 'first': 20200520065711, 'last': 20200520065711, 'flows': 9, 'packets': 59, 'bytes': 999999, 'protocol': 'UDP'}\n",
      "0:00:08.721192\n"
     ]
    }
   ],
   "source": [
    "# 2 Sort the database by the data transfer for the whole database and get the top 10 records\n",
    "client = MongoClient(port=27017)\n",
    "db = client.netflow\n",
    "\n",
    "start = datetime.datetime.now()\n",
    "top_transfers = db.testlist.aggregate([{'$sort': {\"bytes\": -1}},{'$limit':10},{'$project':{\"_id\":0}}]);\n",
    "\n",
    "for top_transfer in top_transfers:\n",
    "    print(top_transfer)\n",
    "    \n",
    "client.close()\n",
    "\n",
    "end = datetime.datetime.now()\n",
    "print(end-start)"
   ]
  },
  {
   "cell_type": "code",
   "execution_count": 8,
   "metadata": {},
   "outputs": [
    {
     "name": "stdout",
     "output_type": "stream",
     "text": [
      "{'srcaddr': '40.81.184.53', 'srcport': 51799, 'dstaddr': '153.81.36.246', 'dstport': 8966, 'first': 20200520065859, 'last': 20200520065859, 'flows': 2, 'packets': 416, 'bytes': 1000000, 'protocol': 'UDP'}\n",
      "{'srcaddr': '157.64.227.78', 'srcport': 7988, 'dstaddr': '212.75.236.165', 'dstport': 1827, 'first': 20200520065855, 'last': 20200520065855, 'flows': 28, 'packets': 377, 'bytes': 1000000, 'protocol': 'TCP'}\n",
      "{'srcaddr': '102.32.97.120', 'srcport': 10545, 'dstaddr': '36.129.28.217', 'dstport': 2738, 'first': 20200520065716, 'last': 20200520065716, 'flows': 8, 'packets': 148, 'bytes': 1000000, 'protocol': 'TCP'}\n",
      "{'srcaddr': '4.158.159.166', 'srcport': 2012, 'dstaddr': '15.167.10.244', 'dstport': 20292, 'first': 20200520065711, 'last': 20200520065711, 'flows': 9, 'packets': 59, 'bytes': 999999, 'protocol': 'UDP'}\n",
      "{'srcaddr': '185.79.124.30', 'srcport': 37089, 'dstaddr': '219.72.121.151', 'dstport': 33571, 'first': 20200520065811, 'last': 20200520065811, 'flows': 15, 'packets': 306, 'bytes': 999999, 'protocol': 'UDP'}\n",
      "{'srcaddr': '92.212.152.33', 'srcport': 37008, 'dstaddr': '193.251.103.20', 'dstport': 13362, 'first': 20200520065948, 'last': 20200520065948, 'flows': 16, 'packets': 30, 'bytes': 999999, 'protocol': 'UDP'}\n",
      "{'srcaddr': '240.120.104.44', 'srcport': 10740, 'dstaddr': '211.166.251.116', 'dstport': 10397, 'first': 20200520065802, 'last': 20200520065802, 'flows': 13, 'packets': 88, 'bytes': 999999, 'protocol': 'UDP'}\n",
      "{'srcaddr': '144.103.231.90', 'srcport': 10181, 'dstaddr': '107.210.217.78', 'dstport': 55948, 'first': 20200520065857, 'last': 20200520065857, 'flows': 6, 'packets': 266, 'bytes': 999999, 'protocol': 'TCP'}\n",
      "{'srcaddr': '121.182.22.15', 'srcport': 48866, 'dstaddr': '169.43.150.106', 'dstport': 41854, 'first': 20200520065714, 'last': 20200520065714, 'flows': 1, 'packets': 243, 'bytes': 999998, 'protocol': 'UDP'}\n",
      "{'srcaddr': '105.238.116.177', 'srcport': 5359, 'dstaddr': '150.173.82.102', 'dstport': 28429, 'first': 20200520065715, 'last': 20200520065715, 'flows': 13, 'packets': 89, 'bytes': 999998, 'protocol': 'UDP'}\n",
      "0:00:09.047026\n"
     ]
    }
   ],
   "source": [
    "# 2 Sort the database by the data transfer for the last 10 minutes and get the top 10 records\n",
    "client = MongoClient(port=27017)\n",
    "db = client.netflow\n",
    "\n",
    "start = datetime.datetime.now()\n",
    "top_transfers = db.testlist.aggregate([\n",
    "    {'$match': {'first': {'$gt': 20200520065700, '$lte':20200520070255}}},\n",
    "    {'$sort': {\"bytes\": -1}},\n",
    "    {'$limit':10},\n",
    "    {'$project':{\"_id\":0}}\n",
    "    ]);\n",
    "\n",
    "for top_transfer in top_transfers:\n",
    "    print(top_transfer)\n",
    "    \n",
    "client.close()\n",
    "\n",
    "end = datetime.datetime.now()\n",
    "print(end-start)"
   ]
  },
  {
   "cell_type": "code",
   "execution_count": 9,
   "metadata": {},
   "outputs": [
    {
     "name": "stdout",
     "output_type": "stream",
     "text": [
      "{'_id': 'null', 'total': 74983073}\n",
      "0:00:03.699538\n"
     ]
    }
   ],
   "source": [
    "client = MongoClient(port=27017)\n",
    "db=client.netflow\n",
    "# 3 Count the total flows in whole database\n",
    "start = datetime.datetime.now()\n",
    "total_flows = db.testlist.aggregate([\n",
    "    {\n",
    "        '$group':{\n",
    "            '_id': \"null\",\n",
    "            'total': { '$sum': \"$flows\"}\n",
    "        }\n",
    "    }\n",
    "])\n",
    "for total in total_flows:\n",
    "    print(total)\n",
    "    \n",
    "client.close()    \n",
    "end = datetime.datetime.now()\n",
    "print(end-start)"
   ]
  },
  {
   "cell_type": "code",
   "execution_count": 10,
   "metadata": {},
   "outputs": [
    {
     "name": "stdout",
     "output_type": "stream",
     "text": [
      "{'_id': 'null', 'total': 59972470}\n",
      "0:00:05.177900\n"
     ]
    }
   ],
   "source": [
    "client = MongoClient(port=27017)\n",
    "db=client.netflow\n",
    "# Count the total flows for the last 10 minutes\n",
    "start = datetime.datetime.now()\n",
    "total_flows = db.testlist.aggregate([\n",
    "    {'$match': {'first': {'$gt': 20200520065700, '$lte':20200520070255}}},\n",
    "    {\n",
    "        '$group':{\n",
    "            '_id': \"null\",\n",
    "            'total': { '$sum': \"$flows\"}\n",
    "        }\n",
    "    }\n",
    "])\n",
    "for total in total_flows:\n",
    "    print(total)\n",
    "    \n",
    "client.close()    \n",
    "end = datetime.datetime.now()\n",
    "print(end-start)"
   ]
  },
  {
   "cell_type": "code",
   "execution_count": null,
   "metadata": {},
   "outputs": [],
   "source": [
    "client = MongoClient(port=27017)\n",
    "db=client.netflow\n",
    "# Search all flows with UDP for the last 10 minutes\n",
    "start = datetime.datetime.now()\n",
    "udp_flows = db.testlist.aggregate([\n",
    "    {   '$match': {'first': {'$gt': 20200520065700, '$lte':20200520070255}}},\n",
    "    {   '$group': {\n",
    "            '_id': \"$protocol\",\n",
    "            'total': { '$sum': \"$bytes\"}\n",
    "        }\n",
    "    }\n",
    "])\n",
    "for udp_flow in udp_flows:\n",
    "    print(udp_flow)\n",
    "end = datetime.datetime.now()\n",
    "print(end-start)"
   ]
  },
  {
   "cell_type": "code",
   "execution_count": null,
   "metadata": {},
   "outputs": [],
   "source": [
    "# plot every 5 minutes each TCP/UDP traffic"
   ]
  },
  {
   "cell_type": "code",
   "execution_count": null,
   "metadata": {},
   "outputs": [],
   "source": [
    "# plot every 5 minutes total traffic in the network"
   ]
  },
  {
   "cell_type": "code",
   "execution_count": 12,
   "metadata": {},
   "outputs": [
    {
     "data": {
      "text/plain": [
       "<pymongo.results.InsertManyResult at 0x7fe3e6e54648>"
      ]
     },
     "execution_count": 12,
     "metadata": {},
     "output_type": "execute_result"
    }
   ],
   "source": [
    "from pymongo import MongoClient\n",
    "from random import randint\n",
    "import datetime\n",
    "start = datetime.datetime.now()\n",
    "# step 1: Connect to MongoDB - Note: Change connection string as needed\n",
    "client = MongoClient(port=27017)\n",
    "db = client.netflow\n",
    "\n",
    "db.testlist.insert_many(netflow)"
   ]
  },
  {
   "cell_type": "code",
   "execution_count": null,
   "metadata": {},
   "outputs": [],
   "source": []
  }
 ],
 "metadata": {
  "kernelspec": {
   "display_name": "Python 3",
   "language": "python",
   "name": "python3"
  },
  "language_info": {
   "codemirror_mode": {
    "name": "ipython",
    "version": 3
   },
   "file_extension": ".py",
   "mimetype": "text/x-python",
   "name": "python",
   "nbconvert_exporter": "python",
   "pygments_lexer": "ipython3",
   "version": "3.6.9"
  }
 },
 "nbformat": 4,
 "nbformat_minor": 4
}
